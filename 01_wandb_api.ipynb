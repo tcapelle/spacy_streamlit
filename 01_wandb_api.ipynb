{
 "cells": [
  {
   "cell_type": "code",
   "execution_count": 19,
   "id": "92d89f64-1676-46d3-9073-3a40ee52bb06",
   "metadata": {},
   "outputs": [],
   "source": [
    "import wandb"
   ]
  },
  {
   "cell_type": "code",
   "execution_count": 20,
   "id": "c5678aed-dbe9-4211-9e11-ba6ee9b6b671",
   "metadata": {},
   "outputs": [
    {
     "data": {
      "text/plain": [
       "True"
      ]
     },
     "execution_count": 20,
     "metadata": {},
     "output_type": "execute_result"
    }
   ],
   "source": [
    "wandb.login()"
   ]
  },
  {
   "cell_type": "code",
   "execution_count": 21,
   "id": "5472c052-fc5f-4e74-be5f-ceec04d5df25",
   "metadata": {},
   "outputs": [],
   "source": [
    "ENTITY = \"capecape\"\n",
    "PROJECT = \"blood-mnist-dv-hackathon\""
   ]
  },
  {
   "cell_type": "code",
   "execution_count": 22,
   "id": "91a4214d-85d9-450b-83fb-f244b2a33338",
   "metadata": {},
   "outputs": [],
   "source": [
    "api = wandb.Api()"
   ]
  },
  {
   "cell_type": "code",
   "execution_count": 23,
   "id": "364345fa-d4d2-4614-aa41-bd1679ddbf10",
   "metadata": {},
   "outputs": [
    {
     "data": {
      "text/html": [
       "<iframe src=\"https://wandb.ai/tcapelle/blood-mnist-dv-hackathon/workspace?jupyter=true\" style=\"border:none;width:100%;height:420px;\"></iframe>"
      ],
      "text/plain": [
       "<Project tcapelle/blood-mnist-dv-hackathon>"
      ]
     },
     "execution_count": 23,
     "metadata": {},
     "output_type": "execute_result"
    }
   ],
   "source": [
    "api.project(name=PROJECT)"
   ]
  },
  {
   "cell_type": "code",
   "execution_count": 10,
   "id": "053248c0-5cf5-46af-9e9d-6727201b539a",
   "metadata": {},
   "outputs": [],
   "source": [
    "projects = api.projects(entity=ENTITY)"
   ]
  },
  {
   "cell_type": "code",
   "execution_count": 17,
   "id": "be0c7898-d065-4475-8fcb-f90be1b53089",
   "metadata": {},
   "outputs": [
    {
     "name": "stdout",
     "output_type": "stream",
     "text": [
      "<Project capecape/classification-techniques>\n",
      "<Project capecape/composer>\n",
      "<Project capecape/torchdata>\n",
      "<Project capecape/sagemaker_camvid_demo>\n",
      "<Project capecape/simple_sweep>\n",
      "<Project capecape/wandb_image>\n",
      "<Project capecape/st>\n",
      "<Project capecape/aws_demo>\n",
      "<Project capecape/pytorch-intro>\n",
      "<Project capecape/huggingface-demo>\n"
     ]
    }
   ],
   "source": [
    "for p in projects:\n",
    "    print(p)"
   ]
  },
  {
   "cell_type": "code",
   "execution_count": null,
   "id": "4bc431c9-a589-4dcf-bee0-96ab8b69174c",
   "metadata": {},
   "outputs": [],
   "source": []
  }
 ],
 "metadata": {
  "kernelspec": {
   "display_name": "Python 3 (ipykernel)",
   "language": "python",
   "name": "python3"
  },
  "language_info": {
   "codemirror_mode": {
    "name": "ipython",
    "version": 3
   },
   "file_extension": ".py",
   "mimetype": "text/x-python",
   "name": "python",
   "nbconvert_exporter": "python",
   "pygments_lexer": "ipython3",
   "version": "3.10.4"
  }
 },
 "nbformat": 4,
 "nbformat_minor": 5
}
