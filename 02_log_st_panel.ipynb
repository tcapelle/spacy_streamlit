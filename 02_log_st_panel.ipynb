{
 "cells": [
  {
   "cell_type": "markdown",
   "id": "d12dd68a-a18c-4f45-bd4c-017de9d6b5fa",
   "metadata": {},
   "source": [
    "## Log wandb dashboard app"
   ]
  },
  {
   "cell_type": "code",
   "execution_count": 24,
   "id": "4f4fb869-9559-4cc3-b3f0-d45d2d5aa640",
   "metadata": {},
   "outputs": [],
   "source": [
    "import wandb\n",
    "PROJECT = \"st30\""
   ]
  },
  {
   "cell_type": "code",
   "execution_count": 25,
   "id": "6a84d25d-5cc3-41e1-8b3e-a15acea37b92",
   "metadata": {},
   "outputs": [
    {
     "name": "stderr",
     "output_type": "stream",
     "text": [
      "\u001b[34m\u001b[1mwandb\u001b[0m: wandb version 0.12.15 is available!  To upgrade, please run:\n",
      "\u001b[34m\u001b[1mwandb\u001b[0m:  $ pip install wandb --upgrade\n"
     ]
    },
    {
     "data": {
      "text/html": [
       "\n",
       "                    Syncing run <strong><a href=\"https://wandb.ai/capecape/st30/runs/2bz4ecq5\" target=\"_blank\">log-model</a></strong> to <a href=\"https://wandb.ai/capecape/st30\" target=\"_blank\">Weights & Biases</a> (<a href=\"https://docs.wandb.com/integrations/jupyter.html\" target=\"_blank\">docs</a>).<br/>\n",
       "\n",
       "                "
      ],
      "text/plain": [
       "<IPython.core.display.HTML object>"
      ]
     },
     "metadata": {},
     "output_type": "display_data"
    },
    {
     "data": {
      "text/html": [
       "<button onClick=\"this.nextSibling.style.display='block';this.style.display='none';\">Display W&B run</button><iframe src=\"https://wandb.ai/capecape/st30/runs/2bz4ecq5?jupyter=true\" style=\"border:none;width:100%;height:420px;display:none;\"></iframe>"
      ],
      "text/plain": [
       "<wandb.sdk.wandb_run.Run at 0x1237ae170>"
      ]
     },
     "execution_count": 25,
     "metadata": {},
     "output_type": "execute_result"
    }
   ],
   "source": [
    "wandb.init(project=PROJECT, name=\"log-model\")"
   ]
  },
  {
   "cell_type": "code",
   "execution_count": 26,
   "id": "48f3a2d7-cb1c-406a-be45-4cda5e808b03",
   "metadata": {},
   "outputs": [],
   "source": [
    "at = wandb.Artifact(\"spacy_model_m\", type=\"model\", description=\"en_core_web_md\")"
   ]
  },
  {
   "cell_type": "code",
   "execution_count": 5,
   "id": "9ab33778-6585-427b-a1ef-beda380938d6",
   "metadata": {},
   "outputs": [
    {
     "name": "stderr",
     "output_type": "stream",
     "text": [
      "\u001b[34m\u001b[1mwandb\u001b[0m: Adding directory to artifact (./en_core_web_sm)... Done. 0.1s\n"
     ]
    }
   ],
   "source": [
    "at.add_dir(\"en_core_web_md/\")"
   ]
  },
  {
   "cell_type": "code",
   "execution_count": 6,
   "id": "3f433de5-a19a-4383-ab15-1cce0063f679",
   "metadata": {},
   "outputs": [
    {
     "data": {
      "text/plain": [
       "<wandb.sdk.wandb_artifacts.Artifact at 0x12324d090>"
      ]
     },
     "execution_count": 6,
     "metadata": {},
     "output_type": "execute_result"
    }
   ],
   "source": [
    "wandb.log_artifact(at)"
   ]
  },
  {
   "cell_type": "code",
   "execution_count": 7,
   "id": "eb1771b6-7f69-4863-99b0-24dfea8fe6df",
   "metadata": {},
   "outputs": [
    {
     "data": {
      "text/html": [
       "<br/>Waiting for W&B process to finish, PID 3836... <strong style=\"color:green\">(success).</strong>"
      ],
      "text/plain": [
       "<IPython.core.display.HTML object>"
      ]
     },
     "metadata": {},
     "output_type": "display_data"
    },
    {
     "data": {
      "application/vnd.jupyter.widget-view+json": {
       "model_id": "",
       "version_major": 2,
       "version_minor": 0
      },
      "text/plain": [
       "VBox(children=(Label(value=' 15.64MB of 15.64MB uploaded (0.00MB deduped)\\r'), FloatProgress(value=1.0, max=1.…"
      ]
     },
     "metadata": {},
     "output_type": "display_data"
    },
    {
     "data": {
      "text/html": [
       "<style>\n",
       "    table.wandb td:nth-child(1) { padding: 0 10px; text-align: right }\n",
       "    .wandb-row { display: flex; flex-direction: row; flex-wrap: wrap; width: 100% }\n",
       "    .wandb-col { display: flex; flex-direction: column; flex-basis: 100%; flex: 1; padding: 10px; }\n",
       "    </style>\n",
       "<div class=\"wandb-row\"><div class=\"wandb-col\">\n",
       "</div><div class=\"wandb-col\">\n",
       "</div></div>\n",
       "Synced 6 W&B file(s), 0 media file(s), 22 artifact file(s) and 0 other file(s)\n",
       "<br/>Synced <strong style=\"color:#cdcd00\">log-model</strong>: <a href=\"https://wandb.ai/capecape/st30/runs/27dkponl\" target=\"_blank\">https://wandb.ai/capecape/st30/runs/27dkponl</a><br/>\n",
       "Find logs at: <code>./wandb/run-20220422_193434-27dkponl/logs</code><br/>\n"
      ],
      "text/plain": [
       "<IPython.core.display.HTML object>"
      ]
     },
     "metadata": {},
     "output_type": "display_data"
    }
   ],
   "source": [
    "wandb.finish()"
   ]
  },
  {
   "cell_type": "code",
   "execution_count": 15,
   "id": "aa509cf6-6e00-4093-bf4d-0d05c63f9e0d",
   "metadata": {},
   "outputs": [],
   "source": [
    "artifact = wandb.Api().artifact('capecape/st30/spacy_model:v0', type='model')\n",
    "artifact_dir = artifact.download()"
   ]
  },
  {
   "cell_type": "code",
   "execution_count": 17,
   "id": "d595a207-b69a-482b-9a56-e99e6afa99f7",
   "metadata": {},
   "outputs": [],
   "source": [
    "api = wandb.Api()"
   ]
  },
  {
   "cell_type": "code",
   "execution_count": 20,
   "id": "4a81244d-b9df-40ed-a326-999ee4c5fb3c",
   "metadata": {},
   "outputs": [],
   "source": [
    "p = api.project(\"st30\", \"capecape\")"
   ]
  },
  {
   "cell_type": "code",
   "execution_count": 23,
   "id": "5792bd5f-5a00-495f-9407-a0fb9aa2e913",
   "metadata": {},
   "outputs": [
    {
     "data": {
      "text/plain": [
       "<wandb.apis.public.ProjectArtifactTypes at 0x1232a97e0>"
      ]
     },
     "execution_count": 23,
     "metadata": {},
     "output_type": "execute_result"
    }
   ],
   "source": [
    "p.artifacts_types()"
   ]
  },
  {
   "cell_type": "code",
   "execution_count": 21,
   "id": "1343a2a2-b3dd-4ccb-89a8-6579f3aa9965",
   "metadata": {},
   "outputs": [
    {
     "data": {
      "text/plain": [
       "'./artifacts/spacy_model:v0'"
      ]
     },
     "execution_count": 21,
     "metadata": {},
     "output_type": "execute_result"
    }
   ],
   "source": [
    "artifact_dir"
   ]
  },
  {
   "cell_type": "code",
   "execution_count": 10,
   "id": "8d655322-030a-4b40-973d-2bde2150bb73",
   "metadata": {},
   "outputs": [
    {
     "data": {
      "text/html": [
       "wandb version 0.12.15 is available!  To upgrade, please run:\n",
       " $ pip install wandb --upgrade"
      ],
      "text/plain": [
       "<IPython.core.display.HTML object>"
      ]
     },
     "metadata": {},
     "output_type": "display_data"
    },
    {
     "data": {
      "text/html": [
       "Tracking run with wandb version 0.12.14"
      ],
      "text/plain": [
       "<IPython.core.display.HTML object>"
      ]
     },
     "metadata": {},
     "output_type": "display_data"
    },
    {
     "data": {
      "text/html": [
       "Run data is saved locally in <code>/Users/tcapelle/wandb/streamlit_30_days/wandb/run-20220422_183241-2uvwsuwz</code>"
      ],
      "text/plain": [
       "<IPython.core.display.HTML object>"
      ]
     },
     "metadata": {},
     "output_type": "display_data"
    },
    {
     "data": {
      "text/html": [
       "Syncing run <strong><a href=\"https://wandb.ai/capecape/st30/runs/2uvwsuwz\" target=\"_blank\">fresh-snowball-4</a></strong> to <a href=\"https://wandb.ai/capecape/st30\" target=\"_blank\">Weights & Biases</a> (<a href=\"https://wandb.me/run\" target=\"_blank\">docs</a>)<br/>"
      ],
      "text/plain": [
       "<IPython.core.display.HTML object>"
      ]
     },
     "metadata": {},
     "output_type": "display_data"
    },
    {
     "name": "stdout",
     "output_type": "stream",
     "text": [
      "\n"
     ]
    },
    {
     "data": {
      "text/html": [
       "Waiting for W&B process to finish... <strong style=\"color:green\">(success).</strong>"
      ],
      "text/plain": [
       "<IPython.core.display.HTML object>"
      ]
     },
     "metadata": {},
     "output_type": "display_data"
    },
    {
     "data": {
      "text/html": [
       "Synced <strong style=\"color:#cdcd00\">fresh-snowball-4</strong>: <a href=\"https://wandb.ai/capecape/st30/runs/2uvwsuwz\" target=\"_blank\">https://wandb.ai/capecape/st30/runs/2uvwsuwz</a><br/>Synced 5 W&B file(s), 1 media file(s), 0 artifact file(s) and 0 other file(s)"
      ],
      "text/plain": [
       "<IPython.core.display.HTML object>"
      ]
     },
     "metadata": {},
     "output_type": "display_data"
    },
    {
     "data": {
      "text/html": [
       "Find logs at: <code>./wandb/run-20220422_183241-2uvwsuwz/logs</code>"
      ],
      "text/plain": [
       "<IPython.core.display.HTML object>"
      ]
     },
     "metadata": {},
     "output_type": "display_data"
    }
   ],
   "source": [
    "import wandb\n",
    "\n",
    "PROJECT = \"st30\"\n",
    "\n",
    "html = \"\"\"\n",
    "<!DOCTYPE html>\n",
    "<html>\n",
    "<style>\n",
    "    html, body { height: 100%; }\n",
    "    body { overflow: hidden; margin: 0; }\n",
    "    iframe { height: 100%; width: 100%; frameborder: 0; }\n",
    "</style>\n",
    "\n",
    "<body>\n",
    "\n",
    "<iframe src=\"https://share.streamlit.io/tcapelle/wandb_streamlit/main/app.py\">\n",
    "  <p>Your browser does not support iframes.</p>\n",
    "</iframe>\n",
    "\n",
    "</body>\n",
    "</html>\n",
    "\"\"\"\n",
    "\n",
    "with wandb.init(project=PROJECT):\n",
    "    wandb.log({\"wandb_dash\":wandb.Html(html)})"
   ]
  },
  {
   "cell_type": "markdown",
   "id": "744e5eac-4292-4a21-b422-e1c1f0dc1033",
   "metadata": {},
   "source": [
    "## Log spacy app"
   ]
  },
  {
   "cell_type": "code",
   "execution_count": 11,
   "id": "d637f0bd-bac3-45c2-9a37-66cda9721ebd",
   "metadata": {},
   "outputs": [
    {
     "data": {
      "text/html": [
       "wandb version 0.12.15 is available!  To upgrade, please run:\n",
       " $ pip install wandb --upgrade"
      ],
      "text/plain": [
       "<IPython.core.display.HTML object>"
      ]
     },
     "metadata": {},
     "output_type": "display_data"
    },
    {
     "data": {
      "text/html": [
       "Tracking run with wandb version 0.12.14"
      ],
      "text/plain": [
       "<IPython.core.display.HTML object>"
      ]
     },
     "metadata": {},
     "output_type": "display_data"
    },
    {
     "data": {
      "text/html": [
       "Run data is saved locally in <code>/Users/tcapelle/wandb/streamlit_30_days/wandb/run-20220422_183249-34acygf7</code>"
      ],
      "text/plain": [
       "<IPython.core.display.HTML object>"
      ]
     },
     "metadata": {},
     "output_type": "display_data"
    },
    {
     "data": {
      "text/html": [
       "Syncing run <strong><a href=\"https://wandb.ai/capecape/st30/runs/34acygf7\" target=\"_blank\">copper-galaxy-5</a></strong> to <a href=\"https://wandb.ai/capecape/st30\" target=\"_blank\">Weights & Biases</a> (<a href=\"https://wandb.me/run\" target=\"_blank\">docs</a>)<br/>"
      ],
      "text/plain": [
       "<IPython.core.display.HTML object>"
      ]
     },
     "metadata": {},
     "output_type": "display_data"
    },
    {
     "name": "stdout",
     "output_type": "stream",
     "text": [
      "\n"
     ]
    },
    {
     "data": {
      "text/html": [
       "Waiting for W&B process to finish... <strong style=\"color:green\">(success).</strong>"
      ],
      "text/plain": [
       "<IPython.core.display.HTML object>"
      ]
     },
     "metadata": {},
     "output_type": "display_data"
    },
    {
     "data": {
      "text/html": [
       "Synced <strong style=\"color:#cdcd00\">copper-galaxy-5</strong>: <a href=\"https://wandb.ai/capecape/st30/runs/34acygf7\" target=\"_blank\">https://wandb.ai/capecape/st30/runs/34acygf7</a><br/>Synced 5 W&B file(s), 1 media file(s), 0 artifact file(s) and 0 other file(s)"
      ],
      "text/plain": [
       "<IPython.core.display.HTML object>"
      ]
     },
     "metadata": {},
     "output_type": "display_data"
    },
    {
     "data": {
      "text/html": [
       "Find logs at: <code>./wandb/run-20220422_183249-34acygf7/logs</code>"
      ],
      "text/plain": [
       "<IPython.core.display.HTML object>"
      ]
     },
     "metadata": {},
     "output_type": "display_data"
    }
   ],
   "source": [
    "import wandb\n",
    "\n",
    "PROJECT = \"st30\"\n",
    "\n",
    "html = \"\"\"\n",
    "<!DOCTYPE html>\n",
    "<html>\n",
    "<style>\n",
    "    html, body { height: 100%; }\n",
    "    body { overflow: hidden; margin: 0; }\n",
    "    iframe { height: 100%; width: 100%; frameborder: 0; }\n",
    "</style>\n",
    "\n",
    "<body>\n",
    "\n",
    "<iframe src=\"https://share.streamlit.io/tcapelle/spacy_streamlit/app.py\">\n",
    "  <p>Your browser does not support iframes.</p>\n",
    "</iframe>\n",
    "\n",
    "</body>\n",
    "</html>\n",
    "\"\"\"\n",
    "\n",
    "with wandb.init(project=PROJECT):\n",
    "    wandb.log({\"spacy_app\":wandb.Html(html)})"
   ]
  }
 ],
 "metadata": {
  "kernelspec": {
   "display_name": "Python 3 (ipykernel)",
   "language": "python",
   "name": "python3"
  },
  "language_info": {
   "codemirror_mode": {
    "name": "ipython",
    "version": 3
   },
   "file_extension": ".py",
   "mimetype": "text/x-python",
   "name": "python",
   "nbconvert_exporter": "python",
   "pygments_lexer": "ipython3",
   "version": "3.10.2"
  }
 },
 "nbformat": 4,
 "nbformat_minor": 5
}
